{
 "cells": [
  {
   "cell_type": "code",
   "execution_count": 8,
   "id": "a776923a-7504-4726-974e-707c9b8d3a9f",
   "metadata": {},
   "outputs": [],
   "source": [
    "# === Master Settings ===\n",
    "MODEL_PATH = \"Agesture_Best.keras\"\n",
    "\n",
    "# Data and training\n",
    "image_size = (128, 128)\n",
    "\n",
    "# Freezing settings\n",
    "freeze_layer_names = ['conv2d','conv2d_1']  # Freeze Conv1, Conv2\n",
    "\n",
    "# Regularization\n",
    "l2_strength = 0.00001  # L2 regularization strength for Conv layers\n",
    "\n",
    "# MaxPooling adjustment\n",
    "use_maxpooling = True  # Set to False if you want to disable MaxPooling layers\n",
    "dropout = 0.4  # Adjust dropout rate\n",
    "#dropout_rates = {\n",
    "#    'dropout': 0.2,\n",
    "#    'dropout_1': 0.3,\n",
    "#    'dropout_2': 0.5\n",
    "#}\n",
    "\n"
   ]
  },
  {
   "cell_type": "code",
   "execution_count": 9,
   "id": "0fe47acc-d1f9-4fc8-90d3-3453f0442844",
   "metadata": {},
   "outputs": [
    {
     "name": "stdout",
     "output_type": "stream",
     "text": [
      "⚠️ Failed to rebuild layer 'input_layer_1' (<class 'keras.src.layers.core.input_layer.InputLayer'>): 'batch_input_shape'\n",
      "⚠️ Failed to rebuild layer 'dropout' (<class 'keras.src.layers.regularization.dropout.Dropout'>): 'tuple' object has no attribute 'trainable'\n",
      "⚠️ Failed to rebuild layer 'dropout_1' (<class 'keras.src.layers.regularization.dropout.Dropout'>): 'tuple' object has no attribute 'trainable'\n",
      "⚠️ Failed to rebuild layer 'dropout_2' (<class 'keras.src.layers.regularization.dropout.Dropout'>): 'tuple' object has no attribute 'trainable'\n",
      "\n",
      "🛠️ New Model Summary:\n"
     ]
    },
    {
     "data": {
      "text/html": [
       "<pre style=\"white-space:pre;overflow-x:auto;line-height:normal;font-family:Menlo,'DejaVu Sans Mono',consolas,'Courier New',monospace\"><span style=\"font-weight: bold\">Model: \"functional_1\"</span>\n",
       "</pre>\n"
      ],
      "text/plain": [
       "\u001b[1mModel: \"functional_1\"\u001b[0m\n"
      ]
     },
     "metadata": {},
     "output_type": "display_data"
    },
    {
     "data": {
      "text/html": [
       "<pre style=\"white-space:pre;overflow-x:auto;line-height:normal;font-family:Menlo,'DejaVu Sans Mono',consolas,'Courier New',monospace\">┏━━━━━━━━━━━━━━━━━━━━━━━━━━━━━━━━━━━━━━┳━━━━━━━━━━━━━━━━━━━━━━━━━━━━━┳━━━━━━━━━━━━━━━━━┓\n",
       "┃<span style=\"font-weight: bold\"> Layer (type)                         </span>┃<span style=\"font-weight: bold\"> Output Shape                </span>┃<span style=\"font-weight: bold\">         Param # </span>┃\n",
       "┡━━━━━━━━━━━━━━━━━━━━━━━━━━━━━━━━━━━━━━╇━━━━━━━━━━━━━━━━━━━━━━━━━━━━━╇━━━━━━━━━━━━━━━━━┩\n",
       "│ input_layer_1 (<span style=\"color: #0087ff; text-decoration-color: #0087ff\">InputLayer</span>)           │ (<span style=\"color: #00d7ff; text-decoration-color: #00d7ff\">None</span>, <span style=\"color: #00af00; text-decoration-color: #00af00\">128</span>, <span style=\"color: #00af00; text-decoration-color: #00af00\">128</span>, <span style=\"color: #00af00; text-decoration-color: #00af00\">3</span>)         │               <span style=\"color: #00af00; text-decoration-color: #00af00\">0</span> │\n",
       "├──────────────────────────────────────┼─────────────────────────────┼─────────────────┤\n",
       "│ conv2d (<span style=\"color: #0087ff; text-decoration-color: #0087ff\">Conv2D</span>)                      │ (<span style=\"color: #00d7ff; text-decoration-color: #00d7ff\">None</span>, <span style=\"color: #00af00; text-decoration-color: #00af00\">128</span>, <span style=\"color: #00af00; text-decoration-color: #00af00\">128</span>, <span style=\"color: #00af00; text-decoration-color: #00af00\">32</span>)        │             <span style=\"color: #00af00; text-decoration-color: #00af00\">896</span> │\n",
       "├──────────────────────────────────────┼─────────────────────────────┼─────────────────┤\n",
       "│ batch_normalization                  │ (<span style=\"color: #00d7ff; text-decoration-color: #00d7ff\">None</span>, <span style=\"color: #00af00; text-decoration-color: #00af00\">128</span>, <span style=\"color: #00af00; text-decoration-color: #00af00\">128</span>, <span style=\"color: #00af00; text-decoration-color: #00af00\">32</span>)        │             <span style=\"color: #00af00; text-decoration-color: #00af00\">128</span> │\n",
       "│ (<span style=\"color: #0087ff; text-decoration-color: #0087ff\">BatchNormalization</span>)                 │                             │                 │\n",
       "├──────────────────────────────────────┼─────────────────────────────┼─────────────────┤\n",
       "│ conv2d_1 (<span style=\"color: #0087ff; text-decoration-color: #0087ff\">Conv2D</span>)                    │ (<span style=\"color: #00d7ff; text-decoration-color: #00d7ff\">None</span>, <span style=\"color: #00af00; text-decoration-color: #00af00\">128</span>, <span style=\"color: #00af00; text-decoration-color: #00af00\">128</span>, <span style=\"color: #00af00; text-decoration-color: #00af00\">32</span>)        │           <span style=\"color: #00af00; text-decoration-color: #00af00\">9,248</span> │\n",
       "├──────────────────────────────────────┼─────────────────────────────┼─────────────────┤\n",
       "│ batch_normalization_1                │ (<span style=\"color: #00d7ff; text-decoration-color: #00d7ff\">None</span>, <span style=\"color: #00af00; text-decoration-color: #00af00\">128</span>, <span style=\"color: #00af00; text-decoration-color: #00af00\">128</span>, <span style=\"color: #00af00; text-decoration-color: #00af00\">32</span>)        │             <span style=\"color: #00af00; text-decoration-color: #00af00\">128</span> │\n",
       "│ (<span style=\"color: #0087ff; text-decoration-color: #0087ff\">BatchNormalization</span>)                 │                             │                 │\n",
       "├──────────────────────────────────────┼─────────────────────────────┼─────────────────┤\n",
       "│ max_pooling2d (<span style=\"color: #0087ff; text-decoration-color: #0087ff\">MaxPooling2D</span>)         │ (<span style=\"color: #00d7ff; text-decoration-color: #00d7ff\">None</span>, <span style=\"color: #00af00; text-decoration-color: #00af00\">64</span>, <span style=\"color: #00af00; text-decoration-color: #00af00\">64</span>, <span style=\"color: #00af00; text-decoration-color: #00af00\">32</span>)          │               <span style=\"color: #00af00; text-decoration-color: #00af00\">0</span> │\n",
       "├──────────────────────────────────────┼─────────────────────────────┼─────────────────┤\n",
       "│ conv2d_2 (<span style=\"color: #0087ff; text-decoration-color: #0087ff\">Conv2D</span>)                    │ (<span style=\"color: #00d7ff; text-decoration-color: #00d7ff\">None</span>, <span style=\"color: #00af00; text-decoration-color: #00af00\">64</span>, <span style=\"color: #00af00; text-decoration-color: #00af00\">64</span>, <span style=\"color: #00af00; text-decoration-color: #00af00\">64</span>)          │          <span style=\"color: #00af00; text-decoration-color: #00af00\">18,496</span> │\n",
       "├──────────────────────────────────────┼─────────────────────────────┼─────────────────┤\n",
       "│ batch_normalization_2                │ (<span style=\"color: #00d7ff; text-decoration-color: #00d7ff\">None</span>, <span style=\"color: #00af00; text-decoration-color: #00af00\">64</span>, <span style=\"color: #00af00; text-decoration-color: #00af00\">64</span>, <span style=\"color: #00af00; text-decoration-color: #00af00\">64</span>)          │             <span style=\"color: #00af00; text-decoration-color: #00af00\">256</span> │\n",
       "│ (<span style=\"color: #0087ff; text-decoration-color: #0087ff\">BatchNormalization</span>)                 │                             │                 │\n",
       "├──────────────────────────────────────┼─────────────────────────────┼─────────────────┤\n",
       "│ conv2d_3 (<span style=\"color: #0087ff; text-decoration-color: #0087ff\">Conv2D</span>)                    │ (<span style=\"color: #00d7ff; text-decoration-color: #00d7ff\">None</span>, <span style=\"color: #00af00; text-decoration-color: #00af00\">64</span>, <span style=\"color: #00af00; text-decoration-color: #00af00\">64</span>, <span style=\"color: #00af00; text-decoration-color: #00af00\">64</span>)          │          <span style=\"color: #00af00; text-decoration-color: #00af00\">36,928</span> │\n",
       "├──────────────────────────────────────┼─────────────────────────────┼─────────────────┤\n",
       "│ batch_normalization_3                │ (<span style=\"color: #00d7ff; text-decoration-color: #00d7ff\">None</span>, <span style=\"color: #00af00; text-decoration-color: #00af00\">64</span>, <span style=\"color: #00af00; text-decoration-color: #00af00\">64</span>, <span style=\"color: #00af00; text-decoration-color: #00af00\">64</span>)          │             <span style=\"color: #00af00; text-decoration-color: #00af00\">256</span> │\n",
       "│ (<span style=\"color: #0087ff; text-decoration-color: #0087ff\">BatchNormalization</span>)                 │                             │                 │\n",
       "├──────────────────────────────────────┼─────────────────────────────┼─────────────────┤\n",
       "│ max_pooling2d_1 (<span style=\"color: #0087ff; text-decoration-color: #0087ff\">MaxPooling2D</span>)       │ (<span style=\"color: #00d7ff; text-decoration-color: #00d7ff\">None</span>, <span style=\"color: #00af00; text-decoration-color: #00af00\">32</span>, <span style=\"color: #00af00; text-decoration-color: #00af00\">32</span>, <span style=\"color: #00af00; text-decoration-color: #00af00\">64</span>)          │               <span style=\"color: #00af00; text-decoration-color: #00af00\">0</span> │\n",
       "├──────────────────────────────────────┼─────────────────────────────┼─────────────────┤\n",
       "│ flatten (<span style=\"color: #0087ff; text-decoration-color: #0087ff\">Flatten</span>)                    │ (<span style=\"color: #00d7ff; text-decoration-color: #00d7ff\">None</span>, <span style=\"color: #00af00; text-decoration-color: #00af00\">65536</span>)               │               <span style=\"color: #00af00; text-decoration-color: #00af00\">0</span> │\n",
       "├──────────────────────────────────────┼─────────────────────────────┼─────────────────┤\n",
       "│ dense (<span style=\"color: #0087ff; text-decoration-color: #0087ff\">Dense</span>)                        │ (<span style=\"color: #00d7ff; text-decoration-color: #00d7ff\">None</span>, <span style=\"color: #00af00; text-decoration-color: #00af00\">128</span>)                 │       <span style=\"color: #00af00; text-decoration-color: #00af00\">8,388,736</span> │\n",
       "├──────────────────────────────────────┼─────────────────────────────┼─────────────────┤\n",
       "│ batch_normalization_4                │ (<span style=\"color: #00d7ff; text-decoration-color: #00d7ff\">None</span>, <span style=\"color: #00af00; text-decoration-color: #00af00\">128</span>)                 │             <span style=\"color: #00af00; text-decoration-color: #00af00\">512</span> │\n",
       "│ (<span style=\"color: #0087ff; text-decoration-color: #0087ff\">BatchNormalization</span>)                 │                             │                 │\n",
       "├──────────────────────────────────────┼─────────────────────────────┼─────────────────┤\n",
       "│ dense_1 (<span style=\"color: #0087ff; text-decoration-color: #0087ff\">Dense</span>)                      │ (<span style=\"color: #00d7ff; text-decoration-color: #00d7ff\">None</span>, <span style=\"color: #00af00; text-decoration-color: #00af00\">7</span>)                   │             <span style=\"color: #00af00; text-decoration-color: #00af00\">903</span> │\n",
       "└──────────────────────────────────────┴─────────────────────────────┴─────────────────┘\n",
       "</pre>\n"
      ],
      "text/plain": [
       "┏━━━━━━━━━━━━━━━━━━━━━━━━━━━━━━━━━━━━━━┳━━━━━━━━━━━━━━━━━━━━━━━━━━━━━┳━━━━━━━━━━━━━━━━━┓\n",
       "┃\u001b[1m \u001b[0m\u001b[1mLayer (type)                        \u001b[0m\u001b[1m \u001b[0m┃\u001b[1m \u001b[0m\u001b[1mOutput Shape               \u001b[0m\u001b[1m \u001b[0m┃\u001b[1m \u001b[0m\u001b[1m        Param #\u001b[0m\u001b[1m \u001b[0m┃\n",
       "┡━━━━━━━━━━━━━━━━━━━━━━━━━━━━━━━━━━━━━━╇━━━━━━━━━━━━━━━━━━━━━━━━━━━━━╇━━━━━━━━━━━━━━━━━┩\n",
       "│ input_layer_1 (\u001b[38;5;33mInputLayer\u001b[0m)           │ (\u001b[38;5;45mNone\u001b[0m, \u001b[38;5;34m128\u001b[0m, \u001b[38;5;34m128\u001b[0m, \u001b[38;5;34m3\u001b[0m)         │               \u001b[38;5;34m0\u001b[0m │\n",
       "├──────────────────────────────────────┼─────────────────────────────┼─────────────────┤\n",
       "│ conv2d (\u001b[38;5;33mConv2D\u001b[0m)                      │ (\u001b[38;5;45mNone\u001b[0m, \u001b[38;5;34m128\u001b[0m, \u001b[38;5;34m128\u001b[0m, \u001b[38;5;34m32\u001b[0m)        │             \u001b[38;5;34m896\u001b[0m │\n",
       "├──────────────────────────────────────┼─────────────────────────────┼─────────────────┤\n",
       "│ batch_normalization                  │ (\u001b[38;5;45mNone\u001b[0m, \u001b[38;5;34m128\u001b[0m, \u001b[38;5;34m128\u001b[0m, \u001b[38;5;34m32\u001b[0m)        │             \u001b[38;5;34m128\u001b[0m │\n",
       "│ (\u001b[38;5;33mBatchNormalization\u001b[0m)                 │                             │                 │\n",
       "├──────────────────────────────────────┼─────────────────────────────┼─────────────────┤\n",
       "│ conv2d_1 (\u001b[38;5;33mConv2D\u001b[0m)                    │ (\u001b[38;5;45mNone\u001b[0m, \u001b[38;5;34m128\u001b[0m, \u001b[38;5;34m128\u001b[0m, \u001b[38;5;34m32\u001b[0m)        │           \u001b[38;5;34m9,248\u001b[0m │\n",
       "├──────────────────────────────────────┼─────────────────────────────┼─────────────────┤\n",
       "│ batch_normalization_1                │ (\u001b[38;5;45mNone\u001b[0m, \u001b[38;5;34m128\u001b[0m, \u001b[38;5;34m128\u001b[0m, \u001b[38;5;34m32\u001b[0m)        │             \u001b[38;5;34m128\u001b[0m │\n",
       "│ (\u001b[38;5;33mBatchNormalization\u001b[0m)                 │                             │                 │\n",
       "├──────────────────────────────────────┼─────────────────────────────┼─────────────────┤\n",
       "│ max_pooling2d (\u001b[38;5;33mMaxPooling2D\u001b[0m)         │ (\u001b[38;5;45mNone\u001b[0m, \u001b[38;5;34m64\u001b[0m, \u001b[38;5;34m64\u001b[0m, \u001b[38;5;34m32\u001b[0m)          │               \u001b[38;5;34m0\u001b[0m │\n",
       "├──────────────────────────────────────┼─────────────────────────────┼─────────────────┤\n",
       "│ conv2d_2 (\u001b[38;5;33mConv2D\u001b[0m)                    │ (\u001b[38;5;45mNone\u001b[0m, \u001b[38;5;34m64\u001b[0m, \u001b[38;5;34m64\u001b[0m, \u001b[38;5;34m64\u001b[0m)          │          \u001b[38;5;34m18,496\u001b[0m │\n",
       "├──────────────────────────────────────┼─────────────────────────────┼─────────────────┤\n",
       "│ batch_normalization_2                │ (\u001b[38;5;45mNone\u001b[0m, \u001b[38;5;34m64\u001b[0m, \u001b[38;5;34m64\u001b[0m, \u001b[38;5;34m64\u001b[0m)          │             \u001b[38;5;34m256\u001b[0m │\n",
       "│ (\u001b[38;5;33mBatchNormalization\u001b[0m)                 │                             │                 │\n",
       "├──────────────────────────────────────┼─────────────────────────────┼─────────────────┤\n",
       "│ conv2d_3 (\u001b[38;5;33mConv2D\u001b[0m)                    │ (\u001b[38;5;45mNone\u001b[0m, \u001b[38;5;34m64\u001b[0m, \u001b[38;5;34m64\u001b[0m, \u001b[38;5;34m64\u001b[0m)          │          \u001b[38;5;34m36,928\u001b[0m │\n",
       "├──────────────────────────────────────┼─────────────────────────────┼─────────────────┤\n",
       "│ batch_normalization_3                │ (\u001b[38;5;45mNone\u001b[0m, \u001b[38;5;34m64\u001b[0m, \u001b[38;5;34m64\u001b[0m, \u001b[38;5;34m64\u001b[0m)          │             \u001b[38;5;34m256\u001b[0m │\n",
       "│ (\u001b[38;5;33mBatchNormalization\u001b[0m)                 │                             │                 │\n",
       "├──────────────────────────────────────┼─────────────────────────────┼─────────────────┤\n",
       "│ max_pooling2d_1 (\u001b[38;5;33mMaxPooling2D\u001b[0m)       │ (\u001b[38;5;45mNone\u001b[0m, \u001b[38;5;34m32\u001b[0m, \u001b[38;5;34m32\u001b[0m, \u001b[38;5;34m64\u001b[0m)          │               \u001b[38;5;34m0\u001b[0m │\n",
       "├──────────────────────────────────────┼─────────────────────────────┼─────────────────┤\n",
       "│ flatten (\u001b[38;5;33mFlatten\u001b[0m)                    │ (\u001b[38;5;45mNone\u001b[0m, \u001b[38;5;34m65536\u001b[0m)               │               \u001b[38;5;34m0\u001b[0m │\n",
       "├──────────────────────────────────────┼─────────────────────────────┼─────────────────┤\n",
       "│ dense (\u001b[38;5;33mDense\u001b[0m)                        │ (\u001b[38;5;45mNone\u001b[0m, \u001b[38;5;34m128\u001b[0m)                 │       \u001b[38;5;34m8,388,736\u001b[0m │\n",
       "├──────────────────────────────────────┼─────────────────────────────┼─────────────────┤\n",
       "│ batch_normalization_4                │ (\u001b[38;5;45mNone\u001b[0m, \u001b[38;5;34m128\u001b[0m)                 │             \u001b[38;5;34m512\u001b[0m │\n",
       "│ (\u001b[38;5;33mBatchNormalization\u001b[0m)                 │                             │                 │\n",
       "├──────────────────────────────────────┼─────────────────────────────┼─────────────────┤\n",
       "│ dense_1 (\u001b[38;5;33mDense\u001b[0m)                      │ (\u001b[38;5;45mNone\u001b[0m, \u001b[38;5;34m7\u001b[0m)                   │             \u001b[38;5;34m903\u001b[0m │\n",
       "└──────────────────────────────────────┴─────────────────────────────┴─────────────────┘\n"
      ]
     },
     "metadata": {},
     "output_type": "display_data"
    },
    {
     "data": {
      "text/html": [
       "<pre style=\"white-space:pre;overflow-x:auto;line-height:normal;font-family:Menlo,'DejaVu Sans Mono',consolas,'Courier New',monospace\"><span style=\"font-weight: bold\"> Total params: </span><span style=\"color: #00af00; text-decoration-color: #00af00\">8,456,487</span> (32.26 MB)\n",
       "</pre>\n"
      ],
      "text/plain": [
       "\u001b[1m Total params: \u001b[0m\u001b[38;5;34m8,456,487\u001b[0m (32.26 MB)\n"
      ]
     },
     "metadata": {},
     "output_type": "display_data"
    },
    {
     "data": {
      "text/html": [
       "<pre style=\"white-space:pre;overflow-x:auto;line-height:normal;font-family:Menlo,'DejaVu Sans Mono',consolas,'Courier New',monospace\"><span style=\"font-weight: bold\"> Trainable params: </span><span style=\"color: #00af00; text-decoration-color: #00af00\">8,445,703</span> (32.22 MB)\n",
       "</pre>\n"
      ],
      "text/plain": [
       "\u001b[1m Trainable params: \u001b[0m\u001b[38;5;34m8,445,703\u001b[0m (32.22 MB)\n"
      ]
     },
     "metadata": {},
     "output_type": "display_data"
    },
    {
     "data": {
      "text/html": [
       "<pre style=\"white-space:pre;overflow-x:auto;line-height:normal;font-family:Menlo,'DejaVu Sans Mono',consolas,'Courier New',monospace\"><span style=\"font-weight: bold\"> Non-trainable params: </span><span style=\"color: #00af00; text-decoration-color: #00af00\">10,784</span> (42.12 KB)\n",
       "</pre>\n"
      ],
      "text/plain": [
       "\u001b[1m Non-trainable params: \u001b[0m\u001b[38;5;34m10,784\u001b[0m (42.12 KB)\n"
      ]
     },
     "metadata": {},
     "output_type": "display_data"
    },
    {
     "name": "stdout",
     "output_type": "stream",
     "text": [
      "Layer Name                | Trainable  | Regularizer\n",
      "------------------------------------------------------------\n",
      "input_layer_1             | True       | None\n",
      "conv2d                    | False      | None\n",
      "batch_normalization       | True       | None\n",
      "conv2d_1                  | False      | None\n",
      "batch_normalization_1     | True       | None\n",
      "max_pooling2d             | True       | None\n",
      "conv2d_2                  | True       | <keras.src.regularizers.regularizers.L2 object at 0x0000013BD1545540>\n",
      "batch_normalization_2     | True       | None\n",
      "conv2d_3                  | True       | None\n",
      "batch_normalization_3     | True       | None\n",
      "max_pooling2d_1           | True       | None\n",
      "flatten                   | True       | None\n",
      "dense                     | True       | None\n",
      "batch_normalization_4     | True       | None\n",
      "dense_1                   | True       | None\n"
     ]
    }
   ],
   "source": [
    "import tensorflow as tf\n",
    "from tensorflow.keras import regularizers\n",
    "from tensorflow.keras.models import load_model, Model\n",
    "from tensorflow.keras.layers import Dropout, MaxPooling2D\n",
    "import os\n",
    "import json\n",
    "import numpy as np\n",
    "\n",
    "# === Load base model ===\n",
    "base_model = load_model(MODEL_PATH)\n",
    "\n",
    "def rebuild_model_with_modifications(base_model, freeze_names, l2_strength, dropout_rate, use_maxpool=True):\n",
    "    from tensorflow.keras import regularizers\n",
    "    from tensorflow.keras.layers import Dropout, MaxPooling2D, Layer, InputLayer\n",
    "\n",
    "    class Identity(Layer):\n",
    "        def call(self, inputs):\n",
    "            return inputs\n",
    "\n",
    "    new_layers = []\n",
    "\n",
    "    for layer in base_model.layers:\n",
    "        config = layer.get_config()\n",
    "        name = layer.name\n",
    "        layer_type = type(layer)\n",
    "\n",
    "        # Only apply L2 to Conv3 & Conv4\n",
    "        apply_l2 = name in ['conv2d_2']\n",
    "        apply_drop = name in []\n",
    "        \n",
    "\n",
    "        try:\n",
    "            if isinstance(layer, tf.keras.layers.Conv2D):\n",
    "                new_layer = tf.keras.layers.Conv2D(\n",
    "                    filters=config['filters'],\n",
    "                    kernel_size=config['kernel_size'],\n",
    "                    strides=config['strides'],\n",
    "                    padding=config['padding'],\n",
    "                    activation=config['activation'],\n",
    "                    kernel_regularizer=regularizers.l2(l2_strength) if apply_l2 else None,\n",
    "                    name=name\n",
    "                )\n",
    "\n",
    "            elif isinstance(layer, tf.keras.layers.Dropout):\n",
    "                # Rebuild Dropout with new rate\n",
    "                new_layer = Dropout(dropout_rate, name=layer.name) if apply_drop else None,\n",
    "            #elif isinstance(layer, Dropout):\n",
    "            #    rate = dropout_rate.get(name, 0.5) if isinstance(dropout_rate, dict) else dropout_rate\n",
    "            #    new_layer = Dropout(rate, name=name)\n",
    "\n",
    "            elif isinstance(layer, MaxPooling2D):\n",
    "                if use_maxpool:\n",
    "                    new_layer = MaxPooling2D(\n",
    "                        pool_size=config['pool_size'],\n",
    "                        strides=config['strides'],\n",
    "                        padding=config['padding'],\n",
    "                        name=name\n",
    "                    )\n",
    "                else:\n",
    "                    new_layer = Identity(name=name + \"_skip\")\n",
    "            elif isinstance(layer, InputLayer):\n",
    "                new_layer = tf.keras.layers.InputLayer(input_shape=config['batch_input_shape'][1:], name=name)\n",
    "            else:\n",
    "                new_layer = layer_type.from_config(config)\n",
    "\n",
    "            new_layer.trainable = name not in freeze_names\n",
    "            new_layers.append(new_layer)\n",
    "\n",
    "        except Exception as e:\n",
    "            print(f\"⚠️ Failed to rebuild layer '{name}' ({layer_type}): {e}\")\n",
    "            continue\n",
    "\n",
    "    # Reconnect layers\n",
    "    inputs = tf.keras.Input(shape=image_size + (3,))\n",
    "    x = inputs\n",
    "    for layer in new_layers:\n",
    "        try:\n",
    "            x = layer(x)\n",
    "        except Exception as e:\n",
    "            print(f\"❌ Failed to apply layer '{layer.name}' to input tensor: {e}\")\n",
    "            raise e\n",
    "\n",
    "    return tf.keras.Model(inputs=inputs, outputs=x)\n",
    "\n",
    "# === Build new model ===\n",
    "new_model = rebuild_model_with_modifications(\n",
    "    base_model,\n",
    "    freeze_layer_names,\n",
    "    l2_strength,\n",
    "    dropout,\n",
    "    use_maxpooling\n",
    ")\n",
    "\n",
    "print(\"\\n🛠️ New Model Summary:\")\n",
    "new_model.summary()\n",
    "\n",
    "# === Debug model freeze and regularization ===\n",
    "def debug_model_freezing(model):\n",
    "    print(f\"{'Layer Name':25} | {'Trainable':10} | {'Regularizer'}\")\n",
    "    print(\"-\" * 60)\n",
    "    for layer in model.layers:\n",
    "        reg = getattr(layer, \"kernel_regularizer\", None)\n",
    "        print(f\"{layer.name:25} | {str(layer.trainable):10} | {str(reg)}\")\n",
    "\n",
    "debug_model_freezing(new_model)\n"
   ]
  },
  {
   "cell_type": "code",
   "execution_count": 10,
   "id": "07e0174c-6da9-463a-84fb-b732d290165f",
   "metadata": {},
   "outputs": [
    {
     "name": "stdout",
     "output_type": "stream",
     "text": [
      "✅ Modified Model saved as gesture_CNN_Modified.keras\n"
     ]
    }
   ],
   "source": [
    "new_model.save(\"Bgesture_CNN.keras\")\n",
    "print(\"✅ Modified Model saved as gesture_CNN_Modified.keras\")"
   ]
  },
  {
   "cell_type": "code",
   "execution_count": 11,
   "id": "354a6b2f-3ad4-4aa9-9b7a-2200affdf91d",
   "metadata": {},
   "outputs": [
    {
     "name": "stdout",
     "output_type": "stream",
     "text": [
      "0 input_layer_1\n",
      "1 conv2d\n",
      "2 batch_normalization\n",
      "3 conv2d_1\n",
      "4 batch_normalization_1\n",
      "5 max_pooling2d\n",
      "6 dropout\n",
      "7 conv2d_2\n",
      "8 batch_normalization_2\n",
      "9 conv2d_3\n",
      "10 batch_normalization_3\n",
      "11 max_pooling2d_1\n",
      "12 dropout_1\n",
      "13 flatten\n",
      "14 dense\n",
      "15 batch_normalization_4\n",
      "16 dropout_2\n",
      "17 dense_1\n"
     ]
    }
   ],
   "source": [
    "for i, layer in enumerate(base_model.layers):\n",
    "    print(i, layer.name)\n"
   ]
  },
  {
   "cell_type": "code",
   "execution_count": 12,
   "id": "0ede99f3-a672-4ede-8427-71db68950191",
   "metadata": {},
   "outputs": [],
   "source": [
    "def print_frozen_layers(model):\n",
    "    print(f\"{'Layer Name':25} | {'Trainable':10}\")\n",
    "    print(\"-\" * 40)\n",
    "    for layer in model.layers:\n",
    "        print(f\"{layer.name:25} | {str(layer.trainable):10}\")\n"
   ]
  },
  {
   "cell_type": "code",
   "execution_count": 13,
   "id": "47c8377a-7282-4b78-b816-9860a188ee10",
   "metadata": {},
   "outputs": [
    {
     "name": "stdout",
     "output_type": "stream",
     "text": [
      "Layer Name                | Trainable \n",
      "----------------------------------------\n",
      "input_layer_1             | True      \n",
      "conv2d                    | True      \n",
      "batch_normalization       | True      \n",
      "conv2d_1                  | True      \n",
      "batch_normalization_1     | True      \n",
      "max_pooling2d             | True      \n",
      "dropout                   | True      \n",
      "conv2d_2                  | False     \n",
      "batch_normalization_2     | True      \n",
      "conv2d_3                  | False     \n",
      "batch_normalization_3     | True      \n",
      "max_pooling2d_1           | True      \n",
      "dropout_1                 | True      \n",
      "flatten                   | True      \n",
      "dense                     | True      \n",
      "batch_normalization_4     | True      \n",
      "dropout_2                 | True      \n",
      "dense_1                   | True      \n"
     ]
    }
   ],
   "source": [
    "print_frozen_layers(base_model)\n"
   ]
  },
  {
   "cell_type": "code",
   "execution_count": 14,
   "id": "c6c7410a-cd2b-494b-a5cd-e6afa87f76f2",
   "metadata": {},
   "outputs": [
    {
     "name": "stdout",
     "output_type": "stream",
     "text": [
      "0 input_layer_1\n",
      "1 conv2d\n",
      "2 batch_normalization\n",
      "3 conv2d_1\n",
      "4 batch_normalization_1\n",
      "5 max_pooling2d\n",
      "6 conv2d_2\n",
      "7 batch_normalization_2\n",
      "8 conv2d_3\n",
      "9 batch_normalization_3\n",
      "10 max_pooling2d_1\n",
      "11 flatten\n",
      "12 dense\n",
      "13 batch_normalization_4\n",
      "14 dense_1\n"
     ]
    }
   ],
   "source": [
    "for i, layer in enumerate(new_model.layers):\n",
    "    print(i, layer.name)\n"
   ]
  },
  {
   "cell_type": "code",
   "execution_count": null,
   "id": "4dea9452-1879-4c41-9416-c261aa1e1512",
   "metadata": {},
   "outputs": [],
   "source": []
  }
 ],
 "metadata": {
  "kernelspec": {
   "display_name": "Python 3 (ipykernel)",
   "language": "python",
   "name": "python3"
  },
  "language_info": {
   "codemirror_mode": {
    "name": "ipython",
    "version": 3
   },
   "file_extension": ".py",
   "mimetype": "text/x-python",
   "name": "python",
   "nbconvert_exporter": "python",
   "pygments_lexer": "ipython3",
   "version": "3.10.16"
  }
 },
 "nbformat": 4,
 "nbformat_minor": 5
}
